{
 "cells": [
  {
   "cell_type": "code",
   "execution_count": 5,
   "metadata": {},
   "outputs": [],
   "source": [
    "from selenium import webdriver\n",
    "import re\n",
    "import pandas as pd\n",
    "import os.path"
   ]
  },
  {
   "cell_type": "code",
   "execution_count": 10,
   "metadata": {},
   "outputs": [],
   "source": [
    "driver = webdriver.Chrome()\n",
    "driver.get(\"https://web.whatsapp.com/\")"
   ]
  },
  {
   "cell_type": "code",
   "execution_count": 12,
   "metadata": {},
   "outputs": [],
   "source": [
    "group_name='Me'\n",
    "user = driver.find_element_by_xpath('//span[@title=\"'+group_name+'\"]')\n",
    "user.click()"
   ]
  },
  {
   "cell_type": "code",
   "execution_count": 13,
   "metadata": {},
   "outputs": [],
   "source": [
    "records=[]"
   ]
  },
  {
   "cell_type": "code",
   "execution_count": 14,
   "metadata": {},
   "outputs": [
    {
     "name": "stdout",
     "output_type": "stream",
     "text": [
      "creating file\n",
      "[]\n"
     ]
    }
   ],
   "source": [
    "if os.path.exists('/home/yadnesh/projects/whatsappGroupScrapNew.csv'):\n",
    "    existing_df = pd.read_csv(\"whatsappGroupScrapNew.csv\")\n",
    "else:\n",
    "    print(\"creating file\")\n",
    "    df = pd.DataFrame(records,columns=['Date','Time','Name','Message'])\n",
    "    df.to_csv('whatsappGroupScrapNew.csv',index = False, encoding = 'utf-8')\n",
    "    existing_df = pd.read_csv(\"whatsappGroupScrapNew.csv\")\n",
    "    \n",
    "message_list = existing_df['Message'].tolist()\n",
    "print(message_list)"
   ]
  },
  {
   "cell_type": "code",
   "execution_count": 18,
   "metadata": {},
   "outputs": [
    {
     "name": "stdout",
     "output_type": "stream",
     "text": [
      "some exception\n",
      "some exception\n",
      "some exception\n",
      "some exception\n",
      "some exception\n",
      "some exception\n"
     ]
    }
   ],
   "source": [
    "message = ''\n",
    "for messages in (driver.find_elements_by_xpath(\"//div[contains(@class,'_12pGw')]\")):#The class name keeps on changing\n",
    "    try:\n",
    "        message_container = messages.find_element_by_xpath(\n",
    "            \".//div[contains(@class,'copyable-text')]\"\n",
    "        )\n",
    "        message = message_container.find_element_by_xpath(\n",
    "            \".//span[@class='selectable-text invisible-space copyable-text']\"\n",
    "        ).text\n",
    "        if(message not in message_list):\n",
    "            date_time = message_container.get_attribute('data-pre-plain-text')\n",
    "            date_time = message_container.get_attribute('data-pre-plain-text')\n",
    "            #print(date_time)\n",
    "            exp_for_date = re.compile(r',(.+)]',re.IGNORECASE)\n",
    "            search_date = exp_for_date.search(date_time)\n",
    "            date = search_date.group(1).strip()\n",
    "            #print(date)\n",
    "            exp_for_time = re.compile(r'\\[(.+),',re.IGNORECASE)\n",
    "            search_time = exp_for_time.search(date_time)\n",
    "            time = search_time.group(1).strip()\n",
    "            #print(time)\n",
    "            exp_for_name = re.compile(r'] (.+):',re.IGNORECASE)\n",
    "            search_name = exp_for_name.search(date_time)\n",
    "            name = search_name.group(1).strip()\n",
    "            #print(name)\n",
    "            #file.write(date_time)\n",
    "            message = message_container.find_element_by_xpath(\n",
    "                \".//span[@class='selectable-text invisible-space copyable-text']\"\n",
    "            ).text\n",
    "            #file.write(date_time)\n",
    "\n",
    "            records.append((date,time,name,message))\n",
    "            #file.write(message)\n",
    "            #file.write(\"\\n\")\n",
    "    except:\n",
    "        print(\"some exception\")\n",
    "#file.close()"
   ]
  },
  {
   "cell_type": "code",
   "execution_count": 16,
   "metadata": {},
   "outputs": [
    {
     "name": "stdout",
     "output_type": "stream",
     "text": [
      "[]\n"
     ]
    }
   ],
   "source": [
    "print(records)"
   ]
  },
  {
   "cell_type": "code",
   "execution_count": 37,
   "metadata": {},
   "outputs": [],
   "source": [
    "df = pd.DataFrame(records,columns=['Date','Time','Name','Message'])\n",
    "df.Date = pd.to_datetime(df['Date'])\n",
    "try:\n",
    "    df['Time'] = pd.to_datetime(df['Time']).dt.time\n",
    "except:\n",
    "    print(\"some exception\")\n",
    "    \n",
    "df.to_csv('whatsappGroupScrapNew.csv', mode='a', header=False,index = False, encoding = 'utf-8')"
   ]
  },
  {
   "cell_type": "markdown",
   "metadata": {},
   "source": [
    "# Extra things (for testing purpose)\n"
   ]
  },
  {
   "cell_type": "code",
   "execution_count": null,
   "metadata": {},
   "outputs": [],
   "source": [
    "msg = driver.find_elements_by_xpath('//span[@title=\"selectable-text invisible-space copyable-text\"]')\n",
    "print(msg)\n",
    "for m in range(len(msg)):\n",
    "    print (msg[m].text)"
   ]
  },
  {
   "cell_type": "code",
   "execution_count": null,
   "metadata": {},
   "outputs": [],
   "source": [
    "text_box = driver.find_element_by_class_name(\"_2S1VP\")\n",
    "#response = \"test\"\n",
    "#text_box.send_keys(response)\n",
    "m1 = \"test:\\n\"\n",
    "for i in range(3):\n",
    "    text_box.send_keys(m1)\n",
    "    #button = driver.find_element_by_class_name(\"_35EW6\")\n",
    "    #button.click()"
   ]
  },
  {
   "cell_type": "code",
   "execution_count": 49,
   "metadata": {},
   "outputs": [
    {
     "name": "stdout",
     "output_type": "stream",
     "text": [
      "Sagar Acharya\n"
     ]
    }
   ],
   "source": [
    "date_time = \"[12:25 PM, 4/2/2019] Sagar Acharya: \"\n",
    "exp_for_date = re.compile(r',(.+)]',re.IGNORECASE)\n",
    "search_date = exp_for_date.search(date_time)\n",
    "date = search_date.group(1).strip()\n",
    "exp_for_time = re.compile(r'\\[(.+),',re.IGNORECASE)\n",
    "search_time = exp_for_time.search(date_time)\n",
    "time = search_time.group(1).strip()\n",
    "exp_for_name = re.compile(r'] (.+):',re.IGNORECASE)\n",
    "search_name = exp_for_na.search(date_time)\n",
    "name = search_name.group(1).strip()"
   ]
  },
  {
   "cell_type": "code",
   "execution_count": null,
   "metadata": {},
   "outputs": [],
   "source": []
  }
 ],
 "metadata": {
  "kernelspec": {
   "display_name": "Python 3",
   "language": "python",
   "name": "python3"
  },
  "language_info": {
   "codemirror_mode": {
    "name": "ipython",
    "version": 3
   },
   "file_extension": ".py",
   "mimetype": "text/x-python",
   "name": "python",
   "nbconvert_exporter": "python",
   "pygments_lexer": "ipython3",
   "version": "3.6.8"
  }
 },
 "nbformat": 4,
 "nbformat_minor": 2
}
